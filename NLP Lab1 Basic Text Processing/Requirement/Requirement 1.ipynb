{
 "cells": [
  {
   "cell_type": "markdown",
   "id": "e6c064e4",
   "metadata": {},
   "source": [
    "From r  Wed Oct 30 21:41:56 2002\n",
    "Return-Path: <james_ngola2002@maktoob.com>\n",
    "X-Sieve: cmu-sieve 2.0\n",
    "Return-Path: <james_ngola2002@maktoob.com>\n",
    "Message-Id: <200210310241.g9V2fNm6028281@cs.CU>\n",
    "From: \"MR. JAMES NGOLA.\" <james_ngola2002@maktoob.com>\n",
    "Reply-To: james_ngola2002@maktoob.com\n",
    "To: webmaster@aclweb.org\n",
    "Date: Thu, 31 Oct 2002 02:38:20 +0000\n",
    "Subject: URGENT BUSINESS ASSISTANCE AND PARTNERSHIP\n",
    "X-Mailer: Microsoft Outlook Express 5.00.2919.6900 DM\n",
    "MIME-Version: 1.0\n",
    "Content-Type: text/plain; charset=\"us-ascii\"\n",
    "Content-Transfer-Encoding: 8bit\n",
    "X-MIME-Autoconverted: from quoted-printable to 8bit by sideshowmel.si.UM id g9V2foW24311\n",
    "Status: O\n",
    "\n",
    "FROM:MR. JAMES NGOLA.\n",
    "CONFIDENTIAL TEL: 233-27-587908.\n",
    "E-MAIL: (james_ngola2002@maktoob.com).\n",
    "\n",
    "URGENT BUSINESS ASSISTANCE AND PARTNERSHIP."
   ]
  },
  {
   "cell_type": "code",
   "execution_count": null,
   "id": "0ff91a18",
   "metadata": {},
   "outputs": [],
   "source": [
    "# Type your full name\n",
    "student1_full_name = \"Peter Atef Fathi\"\n",
    "\n",
    "# Type your section 1 or 2\n",
    "student1_section = \"1\"\n",
    "\n",
    "# Type your BN\n",
    "student1_BN = \"18\"\n",
    "\n",
    "###########################################\n",
    "# Type your full name\n",
    "student2_full_name = \"Beshoy Morad Atya\"\n",
    "\n",
    "# Type your section 1 or 2\n",
    "student2_section = \"1\"\n",
    "\n",
    "# Type your BN\n",
    "student2_BN = \"19\"\n"
   ]
  },
  {
   "cell_type": "code",
   "execution_count": 1,
   "id": "a8420cbf",
   "metadata": {},
   "outputs": [],
   "source": [
    "import re\n",
    "# if you don't have pandas, uncomment the next line\n",
    "# !pip install pandas\n",
    "import pandas as pd"
   ]
  },
  {
   "cell_type": "markdown",
   "id": "cb186e34",
   "metadata": {},
   "source": [
    "# Task Description\n",
    "\n",
    "In this task, you will work with text file containing several emails with their body and other information like sender email, date, subject etc...\n",
    "\n",
    "Dataset Link: https://www.kaggle.com/datasets/rtatman/fraudulent-email-corpus\n",
    "\n",
    "Download the dataset then rename the text file to: emails_dataset.txt\n",
    "\n",
    "The goal of this requirement is to process this text file to convert it to a pandas dataframe to be used easily later. First of all, you need open the text file and try to familiarize yourself with it.\n",
    "\n",
    "Your task will be implementing the TODOs only. Don't write any code out side the TODOs or change other code of this notebook. You will also need to run all the cells in sequence to produce the final output file to be submitted."
   ]
  },
  {
   "cell_type": "code",
   "execution_count": 2,
   "id": "e9416631",
   "metadata": {},
   "outputs": [
    {
     "name": "stdout",
     "output_type": "stream",
     "text": [
      "<class 'str'>\n"
     ]
    }
   ],
   "source": [
    "# Let's read the emails text file\n",
    "f = open(r\"emails_dataset.txt\", \"r\").read()\n",
    "print(type(f))"
   ]
  },
  {
   "cell_type": "markdown",
   "id": "ded6d0b8",
   "metadata": {},
   "source": [
    "Now, we have the whole emails in one string. The first thing we need to do is to split this string to a list containing separate emails. To do this you need to discover the text file. You will notice that every email always starts by a fixed pattern. Your task is to discover what this pattern is to split the string on."
   ]
  },
  {
   "cell_type": "code",
   "execution_count": 3,
   "id": "a324973e",
   "metadata": {},
   "outputs": [],
   "source": [
    "######################### TODO: write the pattern to split the emails on in the raw string below ######################\n",
    "start_email_pattern = r\"\\bFrom r\\b\"\n",
    "#######################################################################################################################\n",
    "\n",
    "contents = re.split(start_email_pattern, f)\n",
    "contents.pop(0)\n",
    "assert len(contents) == 3976, \"Your pattern is wrong\""
   ]
  },
  {
   "cell_type": "markdown",
   "id": "a120c8d8",
   "metadata": {},
   "source": [
    "# Information to be collected\n",
    "\n",
    "Since we now have a list with all emails, we can iterate over them to collect the information we need. Your task will be to implement some functions using Regular Expressions to collect the following information:\n",
    "1. Sender Email\n",
    "2. Sender Name\n",
    "3. Recipient Email\n",
    "4. Recipient Name\n",
    "5. Date\n",
    "6. Subject"
   ]
  },
  {
   "cell_type": "code",
   "execution_count": 29,
   "id": "13918dab",
   "metadata": {},
   "outputs": [],
   "source": [
    "# This function takes a full email (from the contents list)\n",
    "# and returns both the sender email and name as strings\n",
    "# To deremine this, look at the original text file and answer the following questions\n",
    "# what is the pattern that start the line containing both sender name and email?\n",
    "# If you get this whole line, how to capture the email?\n",
    "# If you get this whole line, how to capture the name?\n",
    "\n",
    "def senderEmailAndName(email_item):\n",
    "    ###################### TODO: write regex that can match the whole line containing the sender name and email #########\n",
    "\t\tsender_name_email_line_regex = r'(?<=From: ).*'\n",
    "\t\t#####################################################################################################################\n",
    "\t\tsender = re.search(sender_name_email_line_regex, email_item)\n",
    "\t\t\n",
    "\t\t# This check is in case there is no sender found (We don't know if all emails contain this info)\n",
    "\t\tif sender is not None:\n",
    "\t\t\t\t# Since we have the line You need to do the following\n",
    "\t\t\t\t# You can capture the email by using only one regex (only one re.search())\n",
    "\t\t\t\t# To capture the name safely you can write regex that captures all characters from the end of the start line pattern\n",
    "\t\t\t\t# to the pattern the starts the email\n",
    "\t\t\t\t\n",
    "\t\t\t\t######################### TODO: write regex that captures the email, and the name #############################\n",
    "\t\t\t\t# email regex: this will capture the email exactly\n",
    "\t\t\t\temail_regex = r\"(?<=<).*(?=>)\"\n",
    "\t\t\t\t# name regex: this will capture the name besides some characters before and after it that will be removed later\n",
    "\t\t\t\tname_regex = r\".*(?=<)\"\n",
    "\t\t\t\t##############################################################################################################\n",
    "\t\t\t\ts_email = re.search(email_regex, sender.group())\n",
    "\t\t\t\ts_name = re.search(name_regex, sender.group())\n",
    "\t\telse:\n",
    "\t\t\t\ts_email = None\n",
    "\t\t\t\ts_name = None\n",
    "\n",
    "\t\t# We need to check as re.search() may return None\n",
    "\t\tif s_email is not None:\n",
    "\t\t\t\tsender_email = s_email.group()\n",
    "\t\telse:\n",
    "\t\t\t\tsender_email = None\n",
    "\n",
    "\t\t# We need to check as re.search() may return None\n",
    "\t\tif s_name is not None:\n",
    "\t\t\t\t# Since the name is not captured exactly, we need to substitute all unneeded characters\n",
    "\t\t\t\t\n",
    "\t\t\t\t############################# TODO: write regex to capture characters to be removed #####################\n",
    "\t\t\t\tcharacters_remove_from_beginning = '^\\W+'\n",
    "\t\t\t\tcharacters_remove_from_end = '\\W+$'\n",
    "\t\t\t\t#########################################################################################################\n",
    "\t\t\t\tsender_name = re.sub(characters_remove_from_end, \"\", re.sub(characters_remove_from_beginning, \"\", s_name.group()))\n",
    "\t\telse:\n",
    "\t\t\t\tsender_name = None\n",
    "\n",
    "\t\treturn sender_email, sender_name"
   ]
  },
  {
   "cell_type": "code",
   "execution_count": 20,
   "id": "6995de11",
   "metadata": {},
   "outputs": [],
   "source": [
    "# This function takes a full email (from the contents list)\n",
    "# and returns both the recipient email and name as strings\n",
    "# You will do exactly the same thing you did for sender email except for the pattern used to capture the line\n",
    "# containing the recipient\n",
    "\n",
    "def recipientEmailAndName(email_item):\n",
    "    ###################### TODO: write regex that can match the whole line containing the recipient name and email #########\n",
    "    recipient_name_email_line_regex = r\"\"\n",
    "    #####################################################################################################################\n",
    "    recipient = re.search(recipient_name_email_line_regex, email_item)\n",
    "\n",
    "    # This check is in case there is no sender found (We don't know if all emails contain this info)\n",
    "    if recipient is not None:\n",
    "        # Since we have the line You need to do the following\n",
    "        # You can capture the email by using only one regex (only one re.search())\n",
    "        # To capture the name safely you can write regex that captures all characters from the end of the start line pattern\n",
    "        # to the pattern the starts the email\n",
    "        \n",
    "        ######################### TODO: write regex that captures the email, and the name #############################\n",
    "        # email regex: this will capture the email exactly\n",
    "        email_regex = r\"\"\n",
    "        # name regex: this will capture the name besides some characters before and after it that will be removed later\n",
    "        name_regex = r\"\"\n",
    "        ##############################################################################################################\n",
    "        r_email = re.search(email_regex, recipient.group())\n",
    "        r_name = re.search(name_regex, recipient.group())\n",
    "    else:\n",
    "        r_email = None\n",
    "        r_name = None\n",
    "\n",
    "    # We need to check as re.search() may return None\n",
    "    if r_email is not None:\n",
    "        recipient_email = r_email.group()\n",
    "    else:\n",
    "        recipient_email = None\n",
    "\n",
    "    # We need to check as re.search() may return None\n",
    "    if r_name is not None:\n",
    "        # Since the name is not captured exactly, we need to substitute all unneeded characters\n",
    "        \n",
    "        ############################# TODO: write regex to capture characters to be removed #####################\n",
    "        characters_remove_from_beginning = ''\n",
    "        characters_remove_from_end = ''\n",
    "        #########################################################################################################\n",
    "        recipient_name = re.sub(characters_remove_from_end, \"\", re.sub(characters_remove_from_beginning, \"\", r_name.group()))\n",
    "    else:\n",
    "        recipient_name = None\n",
    "\n",
    "    return recipient_email, recipient_name"
   ]
  },
  {
   "cell_type": "code",
   "execution_count": null,
   "id": "53e19403",
   "metadata": {},
   "outputs": [],
   "source": [
    "# This function takes a full email and returns a string with the date\n",
    "\n",
    "def getDate(email_item):\n",
    "    ########################### TODO: write regex to match the whole line containing the date ########################\n",
    "    line_date_regex = r\"\"\n",
    "    ##################################################################################################################\n",
    "    date_field = re.search(line_date_regex, email_item)\n",
    "\n",
    "    if date_field is not None:\n",
    "        #################################### TODO: write regex to match only the date ###############################\n",
    "        # e.g. If the date is: Thu, 31 Oct 2002 22:17:55 +0100\n",
    "        # you need to match only 31 Oct 2002\n",
    "        date_only_regex = r\"\"\n",
    "        #############################################################################################################\n",
    "        date = re.search(date_only_regex, date_field.group())\n",
    "    else:\n",
    "        date = None\n",
    "\n",
    "    if date is not None:\n",
    "        date_sent = date.group()\n",
    "    else:\n",
    "        date_sent = None\n",
    "\n",
    "    return date_sent"
   ]
  },
  {
   "cell_type": "code",
   "execution_count": null,
   "id": "a21f056e",
   "metadata": {},
   "outputs": [],
   "source": [
    "# This function takes a full email item and returns a string with the email subject\n",
    "def getSubject(email_item):\n",
    "    ########################## TODO: write regex to match the whole line containing the subject #################\n",
    "    line_subject_regex = r\"\"\n",
    "    #############################################################################################################\n",
    "    subject_field = re.search(line_subject_regex, email_item)\n",
    "\n",
    "    if subject_field is not None:\n",
    "        #################### TODO: write regex with the pattern to be removed to capture the subject only ##########\n",
    "        remove_pattern = r\"\"\n",
    "        ############################################################################################################\n",
    "        subject = re.sub(remove_pattern, \"\", subject_field.group())\n",
    "    else:\n",
    "        subject = None\n",
    "\n",
    "    return subject"
   ]
  },
  {
   "cell_type": "code",
   "execution_count": null,
   "id": "65fe3a79",
   "metadata": {},
   "outputs": [],
   "source": [
    "# Let's construct our emails\n",
    "emails = []\n",
    "for email_item in contents:\n",
    "    emails_dict = {}\n",
    "    emails_dict[\"sender_email\"], emails_dict[\"sender_name\"] = senderEmailAndName(email_item)\n",
    "    emails_dict[\"recipient_email\"], emails_dict[\"recipient_name\"] = recipientEmailAndName(email_item)\n",
    "    emails_dict[\"date_sent\"] = getDate(email_item)\n",
    "    emails_dict[\"subject\"] = getSubject(email_item)\n",
    "    \n",
    "    emails.append(emails_dict)\n",
    "    \n",
    "assert len(emails) == 3976, \"You have something wrong\""
   ]
  },
  {
   "cell_type": "code",
   "execution_count": null,
   "id": "8d63b5cb",
   "metadata": {},
   "outputs": [],
   "source": [
    "emails_df = pd.DataFrame(emails)\n",
    "emails_df.head(10)"
   ]
  },
  {
   "cell_type": "code",
   "execution_count": null,
   "id": "78e0ddd1",
   "metadata": {},
   "outputs": [],
   "source": [
    "emails_df.to_csv(f\"{student1_section}_{student1_BN}_{student2_section}_{student2_BN}.csv\", index=False)"
   ]
  }
 ],
 "metadata": {
  "kernelspec": {
   "display_name": "Python 3 (ipykernel)",
   "language": "python",
   "name": "python3"
  },
  "language_info": {
   "codemirror_mode": {
    "name": "ipython",
    "version": 3
   },
   "file_extension": ".py",
   "mimetype": "text/x-python",
   "name": "python",
   "nbconvert_exporter": "python",
   "pygments_lexer": "ipython3",
   "version": "3.10.7"
  }
 },
 "nbformat": 4,
 "nbformat_minor": 5
}
